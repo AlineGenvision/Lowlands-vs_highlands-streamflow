{
 "cells": [
  {
   "cell_type": "code",
   "execution_count": null,
   "outputs": [],
   "source": [
    "import os\n",
    "import torch\n",
    "import datetime\n",
    "import pandas as pd\n",
    "import utils as ut\n",
    "import plotly.express as px\n",
    "\n",
    "import geopandas as gp\n",
    "\n",
    "import paths\n",
    "from apollo import mechanics as ma\n",
    "from apollo import streamflow as strf\n",
    "from apollo import metrics as me\n",
    "\n",
    "from train_model import load_data, train\n",
    "from train_model import sensitivity_analysis as sa\n",
    "\n",
    "import warnings\n",
    "from pandas.errors import SettingWithCopyWarning\n",
    "warnings.simplefilter(action='ignore', category=(SettingWithCopyWarning))\n",
    "\n",
    "pd.options.mode.chained_assignment = None"
   ],
   "metadata": {
    "collapsed": false
   },
   "id": "d791bca0918ece6f"
  },
  {
   "cell_type": "code",
   "execution_count": null,
   "outputs": [],
   "source": [
    "names = ['Rain', 'Temperature', 'Resultant Windspeed', 'Humidity']\n",
    "names_rain = ['Rain'] + [f\"Rain-{i}\" for i in range(1,7)]\n",
    "names_snow = ['Snow Melt'] + [f\"Snow Melt-{i}\" for i in range(1,7)]\n",
    "names_temperature = ['Temperature'] + [f\"Temperature-{i}\" for i in range(1,7)]\n",
    "names_windspeed = ['Resultant Windspeed'] + [f\"Resultant Windspeed-{i}\" for i in range(1,7)]\n",
    "names_humidity = ['Humidity'] + [f\"Humidity-{i}\" for i in range(1,7)]\n",
    "names_proxies = ['Rain_28_Mu', 'Rain_90_Mu', 'Rain_180_Mu', \n",
    "                 'Temperature_28_Mu', 'Temperature_90_Mu', 'Temperature_180_Mu']\n",
    "names_proxies_temp = ['Temperature_28_Mu', 'Temperature_90_Mu', 'Temperature_180_Mu']\n",
    "names_proxies_prec = ['Rain_28_Mu', 'Rain_90_Mu', 'Rain_180_Mu']\n",
    "names_soil_moisture =  ['Soil Moisture ' + f'{i+1}' for i in range(4)]\n",
    "names_hourly_rain = [f\"Rain_{i}\" for i in range(0,24)]\n",
    "names_2hourly_rain = [f'Rain_{i//2}_2hourly' for i in range(0, 24, 2)]\n",
    "names_rain_params = ['Delta_x', 'Delta_y']\n",
    "names_next_day_rain = [f\"Rain_{i}+1\" for i in range(1,10)]\n",
    "names_prev_day_rain = [f\"Rain_{i}-1\" for i in range(12, 24)]\n",
    "names_rain_various_means = ['Rain_2h_mean', 'Rain_4h_mean', 'Rain_6h_mean']\n",
    "\n",
    "names_custom = [f\"Rain_{i}\" for i in range(9,24)] + [f\"Rain_{i}+1\" for i in range(1,10)]\n",
    "\n",
    "sf = sa.perform_sensitivity_analysis(network, features, rf_predicted, names_snow)\n",
    "sa.plot_sensitivities(sf, names_snow)"
   ],
   "metadata": {
    "collapsed": false
   },
   "id": "76b763c195fb8e7e"
  }
 ],
 "metadata": {
  "kernelspec": {
   "display_name": "Python 3",
   "language": "python",
   "name": "python3"
  },
  "language_info": {
   "codemirror_mode": {
    "name": "ipython",
    "version": 2
   },
   "file_extension": ".py",
   "mimetype": "text/x-python",
   "name": "python",
   "nbconvert_exporter": "python",
   "pygments_lexer": "ipython2",
   "version": "2.7.6"
  }
 },
 "nbformat": 4,
 "nbformat_minor": 5
}
