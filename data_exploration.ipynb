{
 "cells": [
  {
   "cell_type": "code",
   "execution_count": 74,
   "id": "initial_id",
   "metadata": {
    "collapsed": true,
    "ExecuteTime": {
     "end_time": "2024-04-27T12:34:06.685708800Z",
     "start_time": "2024-04-27T12:34:06.649813500Z"
    }
   },
   "outputs": [],
   "source": [
    "import os\n",
    "import re\n",
    "import netCDF4 as nc\n",
    "import xarray as xr\n",
    "import pandas as pd\n",
    "import geopandas as gpd\n",
    "\n",
    "from apollo import hydropoint"
   ]
  },
  {
   "cell_type": "code",
   "execution_count": 61,
   "outputs": [
    {
     "data": {
      "text/plain": "                                            geometry\n0  POLYGON ((516025.000 253525.000, 516025.000 25...",
      "text/html": "<div>\n<style scoped>\n    .dataframe tbody tr th:only-of-type {\n        vertical-align: middle;\n    }\n\n    .dataframe tbody tr th {\n        vertical-align: top;\n    }\n\n    .dataframe thead th {\n        text-align: right;\n    }\n</style>\n<table border=\"1\" class=\"dataframe\">\n  <thead>\n    <tr style=\"text-align: right;\">\n      <th></th>\n      <th>geometry</th>\n    </tr>\n  </thead>\n  <tbody>\n    <tr>\n      <th>0</th>\n      <td>POLYGON ((516025.000 253525.000, 516025.000 25...</td>\n    </tr>\n  </tbody>\n</table>\n</div>"
     },
     "metadata": {},
     "output_type": "display_data"
    },
    {
     "name": "stdout",
     "output_type": "stream",
     "text": [
      "Index(['geometry'], dtype='object')\n"
     ]
    },
    {
     "data": {
      "text/plain": "                                            geometry\n0  POLYGON ((384500.000 227875.000, 384425.000 22...",
      "text/html": "<div>\n<style scoped>\n    .dataframe tbody tr th:only-of-type {\n        vertical-align: middle;\n    }\n\n    .dataframe tbody tr th {\n        vertical-align: top;\n    }\n\n    .dataframe thead th {\n        text-align: right;\n    }\n</style>\n<table border=\"1\" class=\"dataframe\">\n  <thead>\n    <tr style=\"text-align: right;\">\n      <th></th>\n      <th>geometry</th>\n    </tr>\n  </thead>\n  <tbody>\n    <tr>\n      <th>0</th>\n      <td>POLYGON ((384500.000 227875.000, 384425.000 22...</td>\n    </tr>\n  </tbody>\n</table>\n</div>"
     },
     "metadata": {},
     "output_type": "display_data"
    },
    {
     "name": "stdout",
     "output_type": "stream",
     "text": [
      "Index(['geometry'], dtype='object')\n"
     ]
    },
    {
     "data": {
      "text/plain": "                                            geometry\n0  POLYGON ((282575.000 833550.000, 282575.000 83...",
      "text/html": "<div>\n<style scoped>\n    .dataframe tbody tr th:only-of-type {\n        vertical-align: middle;\n    }\n\n    .dataframe tbody tr th {\n        vertical-align: top;\n    }\n\n    .dataframe thead th {\n        text-align: right;\n    }\n</style>\n<table border=\"1\" class=\"dataframe\">\n  <thead>\n    <tr style=\"text-align: right;\">\n      <th></th>\n      <th>geometry</th>\n    </tr>\n  </thead>\n  <tbody>\n    <tr>\n      <th>0</th>\n      <td>POLYGON ((282575.000 833550.000, 282575.000 83...</td>\n    </tr>\n  </tbody>\n</table>\n</div>"
     },
     "metadata": {},
     "output_type": "display_data"
    },
    {
     "name": "stdout",
     "output_type": "stream",
     "text": [
      "Index(['geometry'], dtype='object')\n"
     ]
    }
   ],
   "source": [
    "# Get all the shapefiles\n",
    "shp_files = [file for file in os.listdir() if file.endswith('.shp')]\n",
    "\n",
    "for shp_file in shp_files:\n",
    "    gdf = gpd.read_file(shp_file)\n",
    "    gdf = gdf.set_geometry('geometry')\n",
    "    display(gdf)\n",
    "    print(gdf.columns)"
   ],
   "metadata": {
    "collapsed": false,
    "ExecuteTime": {
     "end_time": "2024-04-27T11:40:59.052517700Z",
     "start_time": "2024-04-27T11:40:58.917434200Z"
    }
   },
   "id": "e6fc8ca64e55d9c2"
  },
  {
   "cell_type": "code",
   "execution_count": 62,
   "outputs": [
    {
     "data": {
      "text/plain": "             Date    Flow\n19     1960-10-01   3.934\n20     1960-10-02   4.585\n21     1960-10-03  15.820\n22     1960-10-04  13.130\n23     1960-10-05   7.925\n...           ...     ...\n22659  2022-09-26   4.342\n22660  2022-09-27  18.910\n22661  2022-09-28  16.920\n22662  2022-09-29   8.032\n22663  2022-09-30  46.760\n\n[22645 rows x 2 columns]",
      "text/html": "<div>\n<style scoped>\n    .dataframe tbody tr th:only-of-type {\n        vertical-align: middle;\n    }\n\n    .dataframe tbody tr th {\n        vertical-align: top;\n    }\n\n    .dataframe thead th {\n        text-align: right;\n    }\n</style>\n<table border=\"1\" class=\"dataframe\">\n  <thead>\n    <tr style=\"text-align: right;\">\n      <th></th>\n      <th>Date</th>\n      <th>Flow</th>\n    </tr>\n  </thead>\n  <tbody>\n    <tr>\n      <th>19</th>\n      <td>1960-10-01</td>\n      <td>3.934</td>\n    </tr>\n    <tr>\n      <th>20</th>\n      <td>1960-10-02</td>\n      <td>4.585</td>\n    </tr>\n    <tr>\n      <th>21</th>\n      <td>1960-10-03</td>\n      <td>15.820</td>\n    </tr>\n    <tr>\n      <th>22</th>\n      <td>1960-10-04</td>\n      <td>13.130</td>\n    </tr>\n    <tr>\n      <th>23</th>\n      <td>1960-10-05</td>\n      <td>7.925</td>\n    </tr>\n    <tr>\n      <th>...</th>\n      <td>...</td>\n      <td>...</td>\n    </tr>\n    <tr>\n      <th>22659</th>\n      <td>2022-09-26</td>\n      <td>4.342</td>\n    </tr>\n    <tr>\n      <th>22660</th>\n      <td>2022-09-27</td>\n      <td>18.910</td>\n    </tr>\n    <tr>\n      <th>22661</th>\n      <td>2022-09-28</td>\n      <td>16.920</td>\n    </tr>\n    <tr>\n      <th>22662</th>\n      <td>2022-09-29</td>\n      <td>8.032</td>\n    </tr>\n    <tr>\n      <th>22663</th>\n      <td>2022-09-30</td>\n      <td>46.760</td>\n    </tr>\n  </tbody>\n</table>\n<p>22645 rows × 2 columns</p>\n</div>"
     },
     "execution_count": 62,
     "metadata": {},
     "output_type": "execute_result"
    }
   ],
   "source": [
    "import pandas as pd\n",
    "flow = pd.read_csv('7001_gdf.csv')\n",
    "flow = flow.drop(flow.columns[2], axis=1)\n",
    "flow = flow.drop(flow.index[0:19])\n",
    "flow.columns = ['Date', 'Flow']\n",
    "flow"
   ],
   "metadata": {
    "collapsed": false,
    "ExecuteTime": {
     "end_time": "2024-04-27T11:40:59.383458800Z",
     "start_time": "2024-04-27T11:40:59.348088100Z"
    }
   },
   "id": "872e1258d264b05f"
  },
  {
   "cell_type": "code",
   "execution_count": 68,
   "outputs": [
    {
     "data": {
      "text/plain": "<module 'apollo.hydropoint' from 'C:\\\\Users\\\\aline\\\\soil-moisture-proxies\\\\apollo\\\\hydropoint.py'>"
     },
     "execution_count": 68,
     "metadata": {},
     "output_type": "execute_result"
    }
   ],
   "source": [
    "import importlib\n",
    "importlib.reload(hydropoint)"
   ],
   "metadata": {
    "collapsed": false,
    "ExecuteTime": {
     "end_time": "2024-04-27T11:42:32.338715900Z",
     "start_time": "2024-04-27T11:42:32.317520500Z"
    }
   },
   "id": "6213f64a8fb4ce4d"
  },
  {
   "cell_type": "code",
   "execution_count": 69,
   "outputs": [
    {
     "name": "stdout",
     "output_type": "stream",
     "text": [
      "   variable  variable-1  variable-2\n",
      "0         0         NaN         NaN\n",
      "1         1         0.0         NaN\n",
      "2         2         1.0         0.0\n",
      "3         3         2.0         1.0\n",
      "4         4         3.0         2.0\n",
      "5         5         4.0         3.0\n",
      "6         6         5.0         4.0\n",
      "7         7         6.0         5.0\n",
      "8         8         7.0         6.0\n",
      "9         9         8.0         7.0\n"
     ]
    }
   ],
   "source": [
    "df = pd.DataFrame({\n",
    "    'variable': range(10)\n",
    "})\n",
    "\n",
    "# Add shifted columns\n",
    "df = hydropoint.weather_shift(df, 'variable', 3, past=True)\n",
    "print(df)"
   ],
   "metadata": {
    "collapsed": false,
    "ExecuteTime": {
     "end_time": "2024-04-27T11:42:32.788693700Z",
     "start_time": "2024-04-27T11:42:32.773713700Z"
    }
   },
   "id": "f0bbaa792ae06453"
  },
  {
   "cell_type": "code",
   "execution_count": 10,
   "outputs": [
    {
     "data": {
      "text/plain": "<xarray.Dataset>\nDimensions:    (time: 366, latitude: 49, longitude: 49)\nCoordinates:\n  * time       (time) datetime64[ns] 1980-01-01 1980-01-02 ... 1980-12-31\n  * longitude  (longitude) float32 -8.0 -7.75 -7.5 -7.25 ... 3.25 3.5 3.75 4.0\n  * latitude   (latitude) float32 60.0 59.75 59.5 59.25 ... 48.5 48.25 48.0\nData variables:\n    tp         (time, latitude, longitude) float32 ...\nAttributes:\n    Conventions:  CF-1.6\n    history:      2024-04-14 12:05:10 GMT by grib_to_netcdf-2.25.1: /opt/ecmw...",
      "text/html": "<div><svg style=\"position: absolute; width: 0; height: 0; overflow: hidden\">\n<defs>\n<symbol id=\"icon-database\" viewBox=\"0 0 32 32\">\n<path d=\"M16 0c-8.837 0-16 2.239-16 5v4c0 2.761 7.163 5 16 5s16-2.239 16-5v-4c0-2.761-7.163-5-16-5z\"></path>\n<path d=\"M16 17c-8.837 0-16-2.239-16-5v6c0 2.761 7.163 5 16 5s16-2.239 16-5v-6c0 2.761-7.163 5-16 5z\"></path>\n<path d=\"M16 26c-8.837 0-16-2.239-16-5v6c0 2.761 7.163 5 16 5s16-2.239 16-5v-6c0 2.761-7.163 5-16 5z\"></path>\n</symbol>\n<symbol id=\"icon-file-text2\" viewBox=\"0 0 32 32\">\n<path d=\"M28.681 7.159c-0.694-0.947-1.662-2.053-2.724-3.116s-2.169-2.030-3.116-2.724c-1.612-1.182-2.393-1.319-2.841-1.319h-15.5c-1.378 0-2.5 1.121-2.5 2.5v27c0 1.378 1.122 2.5 2.5 2.5h23c1.378 0 2.5-1.122 2.5-2.5v-19.5c0-0.448-0.137-1.23-1.319-2.841zM24.543 5.457c0.959 0.959 1.712 1.825 2.268 2.543h-4.811v-4.811c0.718 0.556 1.584 1.309 2.543 2.268zM28 29.5c0 0.271-0.229 0.5-0.5 0.5h-23c-0.271 0-0.5-0.229-0.5-0.5v-27c0-0.271 0.229-0.5 0.5-0.5 0 0 15.499-0 15.5 0v7c0 0.552 0.448 1 1 1h7v19.5z\"></path>\n<path d=\"M23 26h-14c-0.552 0-1-0.448-1-1s0.448-1 1-1h14c0.552 0 1 0.448 1 1s-0.448 1-1 1z\"></path>\n<path d=\"M23 22h-14c-0.552 0-1-0.448-1-1s0.448-1 1-1h14c0.552 0 1 0.448 1 1s-0.448 1-1 1z\"></path>\n<path d=\"M23 18h-14c-0.552 0-1-0.448-1-1s0.448-1 1-1h14c0.552 0 1 0.448 1 1s-0.448 1-1 1z\"></path>\n</symbol>\n</defs>\n</svg>\n<style>/* CSS stylesheet for displaying xarray objects in jupyterlab.\n *\n */\n\n:root {\n  --xr-font-color0: var(--jp-content-font-color0, rgba(0, 0, 0, 1));\n  --xr-font-color2: var(--jp-content-font-color2, rgba(0, 0, 0, 0.54));\n  --xr-font-color3: var(--jp-content-font-color3, rgba(0, 0, 0, 0.38));\n  --xr-border-color: var(--jp-border-color2, #e0e0e0);\n  --xr-disabled-color: var(--jp-layout-color3, #bdbdbd);\n  --xr-background-color: var(--jp-layout-color0, white);\n  --xr-background-color-row-even: var(--jp-layout-color1, white);\n  --xr-background-color-row-odd: var(--jp-layout-color2, #eeeeee);\n}\n\nhtml[theme=dark],\nbody[data-theme=dark],\nbody.vscode-dark {\n  --xr-font-color0: rgba(255, 255, 255, 1);\n  --xr-font-color2: rgba(255, 255, 255, 0.54);\n  --xr-font-color3: rgba(255, 255, 255, 0.38);\n  --xr-border-color: #1F1F1F;\n  --xr-disabled-color: #515151;\n  --xr-background-color: #111111;\n  --xr-background-color-row-even: #111111;\n  --xr-background-color-row-odd: #313131;\n}\n\n.xr-wrap {\n  display: block !important;\n  min-width: 300px;\n  max-width: 700px;\n}\n\n.xr-text-repr-fallback {\n  /* fallback to plain text repr when CSS is not injected (untrusted notebook) */\n  display: none;\n}\n\n.xr-header {\n  padding-top: 6px;\n  padding-bottom: 6px;\n  margin-bottom: 4px;\n  border-bottom: solid 1px var(--xr-border-color);\n}\n\n.xr-header > div,\n.xr-header > ul {\n  display: inline;\n  margin-top: 0;\n  margin-bottom: 0;\n}\n\n.xr-obj-type,\n.xr-array-name {\n  margin-left: 2px;\n  margin-right: 10px;\n}\n\n.xr-obj-type {\n  color: var(--xr-font-color2);\n}\n\n.xr-sections {\n  padding-left: 0 !important;\n  display: grid;\n  grid-template-columns: 150px auto auto 1fr 20px 20px;\n}\n\n.xr-section-item {\n  display: contents;\n}\n\n.xr-section-item input {\n  display: none;\n}\n\n.xr-section-item input + label {\n  color: var(--xr-disabled-color);\n}\n\n.xr-section-item input:enabled + label {\n  cursor: pointer;\n  color: var(--xr-font-color2);\n}\n\n.xr-section-item input:enabled + label:hover {\n  color: var(--xr-font-color0);\n}\n\n.xr-section-summary {\n  grid-column: 1;\n  color: var(--xr-font-color2);\n  font-weight: 500;\n}\n\n.xr-section-summary > span {\n  display: inline-block;\n  padding-left: 0.5em;\n}\n\n.xr-section-summary-in:disabled + label {\n  color: var(--xr-font-color2);\n}\n\n.xr-section-summary-in + label:before {\n  display: inline-block;\n  content: '►';\n  font-size: 11px;\n  width: 15px;\n  text-align: center;\n}\n\n.xr-section-summary-in:disabled + label:before {\n  color: var(--xr-disabled-color);\n}\n\n.xr-section-summary-in:checked + label:before {\n  content: '▼';\n}\n\n.xr-section-summary-in:checked + label > span {\n  display: none;\n}\n\n.xr-section-summary,\n.xr-section-inline-details {\n  padding-top: 4px;\n  padding-bottom: 4px;\n}\n\n.xr-section-inline-details {\n  grid-column: 2 / -1;\n}\n\n.xr-section-details {\n  display: none;\n  grid-column: 1 / -1;\n  margin-bottom: 5px;\n}\n\n.xr-section-summary-in:checked ~ .xr-section-details {\n  display: contents;\n}\n\n.xr-array-wrap {\n  grid-column: 1 / -1;\n  display: grid;\n  grid-template-columns: 20px auto;\n}\n\n.xr-array-wrap > label {\n  grid-column: 1;\n  vertical-align: top;\n}\n\n.xr-preview {\n  color: var(--xr-font-color3);\n}\n\n.xr-array-preview,\n.xr-array-data {\n  padding: 0 5px !important;\n  grid-column: 2;\n}\n\n.xr-array-data,\n.xr-array-in:checked ~ .xr-array-preview {\n  display: none;\n}\n\n.xr-array-in:checked ~ .xr-array-data,\n.xr-array-preview {\n  display: inline-block;\n}\n\n.xr-dim-list {\n  display: inline-block !important;\n  list-style: none;\n  padding: 0 !important;\n  margin: 0;\n}\n\n.xr-dim-list li {\n  display: inline-block;\n  padding: 0;\n  margin: 0;\n}\n\n.xr-dim-list:before {\n  content: '(';\n}\n\n.xr-dim-list:after {\n  content: ')';\n}\n\n.xr-dim-list li:not(:last-child):after {\n  content: ',';\n  padding-right: 5px;\n}\n\n.xr-has-index {\n  font-weight: bold;\n}\n\n.xr-var-list,\n.xr-var-item {\n  display: contents;\n}\n\n.xr-var-item > div,\n.xr-var-item label,\n.xr-var-item > .xr-var-name span {\n  background-color: var(--xr-background-color-row-even);\n  margin-bottom: 0;\n}\n\n.xr-var-item > .xr-var-name:hover span {\n  padding-right: 5px;\n}\n\n.xr-var-list > li:nth-child(odd) > div,\n.xr-var-list > li:nth-child(odd) > label,\n.xr-var-list > li:nth-child(odd) > .xr-var-name span {\n  background-color: var(--xr-background-color-row-odd);\n}\n\n.xr-var-name {\n  grid-column: 1;\n}\n\n.xr-var-dims {\n  grid-column: 2;\n}\n\n.xr-var-dtype {\n  grid-column: 3;\n  text-align: right;\n  color: var(--xr-font-color2);\n}\n\n.xr-var-preview {\n  grid-column: 4;\n}\n\n.xr-index-preview {\n  grid-column: 2 / 5;\n  color: var(--xr-font-color2);\n}\n\n.xr-var-name,\n.xr-var-dims,\n.xr-var-dtype,\n.xr-preview,\n.xr-attrs dt {\n  white-space: nowrap;\n  overflow: hidden;\n  text-overflow: ellipsis;\n  padding-right: 10px;\n}\n\n.xr-var-name:hover,\n.xr-var-dims:hover,\n.xr-var-dtype:hover,\n.xr-attrs dt:hover {\n  overflow: visible;\n  width: auto;\n  z-index: 1;\n}\n\n.xr-var-attrs,\n.xr-var-data,\n.xr-index-data {\n  display: none;\n  background-color: var(--xr-background-color) !important;\n  padding-bottom: 5px !important;\n}\n\n.xr-var-attrs-in:checked ~ .xr-var-attrs,\n.xr-var-data-in:checked ~ .xr-var-data,\n.xr-index-data-in:checked ~ .xr-index-data {\n  display: block;\n}\n\n.xr-var-data > table {\n  float: right;\n}\n\n.xr-var-name span,\n.xr-var-data,\n.xr-index-name div,\n.xr-index-data,\n.xr-attrs {\n  padding-left: 25px !important;\n}\n\n.xr-attrs,\n.xr-var-attrs,\n.xr-var-data,\n.xr-index-data {\n  grid-column: 1 / -1;\n}\n\ndl.xr-attrs {\n  padding: 0;\n  margin: 0;\n  display: grid;\n  grid-template-columns: 125px auto;\n}\n\n.xr-attrs dt,\n.xr-attrs dd {\n  padding: 0;\n  margin: 0;\n  float: left;\n  padding-right: 10px;\n  width: auto;\n}\n\n.xr-attrs dt {\n  font-weight: normal;\n  grid-column: 1;\n}\n\n.xr-attrs dt:hover span {\n  display: inline-block;\n  background: var(--xr-background-color);\n  padding-right: 10px;\n}\n\n.xr-attrs dd {\n  grid-column: 2;\n  white-space: pre-wrap;\n  word-break: break-all;\n}\n\n.xr-icon-database,\n.xr-icon-file-text2,\n.xr-no-icon {\n  display: inline-block;\n  vertical-align: middle;\n  width: 1em;\n  height: 1.5em !important;\n  stroke-width: 0;\n  stroke: currentColor;\n  fill: currentColor;\n}\n</style><pre class='xr-text-repr-fallback'>&lt;xarray.Dataset&gt;\nDimensions:    (time: 366, latitude: 49, longitude: 49)\nCoordinates:\n  * time       (time) datetime64[ns] 1980-01-01 1980-01-02 ... 1980-12-31\n  * longitude  (longitude) float32 -8.0 -7.75 -7.5 -7.25 ... 3.25 3.5 3.75 4.0\n  * latitude   (latitude) float32 60.0 59.75 59.5 59.25 ... 48.5 48.25 48.0\nData variables:\n    tp         (time, latitude, longitude) float32 ...\nAttributes:\n    Conventions:  CF-1.6\n    history:      2024-04-14 12:05:10 GMT by grib_to_netcdf-2.25.1: /opt/ecmw...</pre><div class='xr-wrap' style='display:none'><div class='xr-header'><div class='xr-obj-type'>xarray.Dataset</div></div><ul class='xr-sections'><li class='xr-section-item'><input id='section-73f7dabd-1d97-40fd-99b1-3cd040130616' class='xr-section-summary-in' type='checkbox' disabled ><label for='section-73f7dabd-1d97-40fd-99b1-3cd040130616' class='xr-section-summary'  title='Expand/collapse section'>Dimensions:</label><div class='xr-section-inline-details'><ul class='xr-dim-list'><li><span class='xr-has-index'>time</span>: 366</li><li><span class='xr-has-index'>latitude</span>: 49</li><li><span class='xr-has-index'>longitude</span>: 49</li></ul></div><div class='xr-section-details'></div></li><li class='xr-section-item'><input id='section-d53cf2b0-a4ac-4d4c-aae2-5a3164064b33' class='xr-section-summary-in' type='checkbox'  checked><label for='section-d53cf2b0-a4ac-4d4c-aae2-5a3164064b33' class='xr-section-summary' >Coordinates: <span>(3)</span></label><div class='xr-section-inline-details'></div><div class='xr-section-details'><ul class='xr-var-list'><li class='xr-var-item'><div class='xr-var-name'><span class='xr-has-index'>time</span></div><div class='xr-var-dims'>(time)</div><div class='xr-var-dtype'>datetime64[ns]</div><div class='xr-var-preview xr-preview'>1980-01-01 ... 1980-12-31</div><input id='attrs-659ff02e-bbb7-4385-b91e-2dd4f4b0d640' class='xr-var-attrs-in' type='checkbox' ><label for='attrs-659ff02e-bbb7-4385-b91e-2dd4f4b0d640' title='Show/Hide attributes'><svg class='icon xr-icon-file-text2'><use xlink:href='#icon-file-text2'></use></svg></label><input id='data-177e8187-3f85-4570-b9f0-784caacfff5c' class='xr-var-data-in' type='checkbox'><label for='data-177e8187-3f85-4570-b9f0-784caacfff5c' title='Show/Hide data repr'><svg class='icon xr-icon-database'><use xlink:href='#icon-database'></use></svg></label><div class='xr-var-attrs'><dl class='xr-attrs'><dt><span>long_name :</span></dt><dd>time</dd></dl></div><div class='xr-var-data'><pre>array([&#x27;1980-01-01T00:00:00.000000000&#x27;, &#x27;1980-01-02T00:00:00.000000000&#x27;,\n       &#x27;1980-01-03T00:00:00.000000000&#x27;, ..., &#x27;1980-12-29T00:00:00.000000000&#x27;,\n       &#x27;1980-12-30T00:00:00.000000000&#x27;, &#x27;1980-12-31T00:00:00.000000000&#x27;],\n      dtype=&#x27;datetime64[ns]&#x27;)</pre></div></li><li class='xr-var-item'><div class='xr-var-name'><span class='xr-has-index'>longitude</span></div><div class='xr-var-dims'>(longitude)</div><div class='xr-var-dtype'>float32</div><div class='xr-var-preview xr-preview'>-8.0 -7.75 -7.5 ... 3.5 3.75 4.0</div><input id='attrs-aeb800e4-86ca-410f-944a-984f17cee956' class='xr-var-attrs-in' type='checkbox' ><label for='attrs-aeb800e4-86ca-410f-944a-984f17cee956' title='Show/Hide attributes'><svg class='icon xr-icon-file-text2'><use xlink:href='#icon-file-text2'></use></svg></label><input id='data-beb9dc2c-0c18-445d-8101-9172d4f49796' class='xr-var-data-in' type='checkbox'><label for='data-beb9dc2c-0c18-445d-8101-9172d4f49796' title='Show/Hide data repr'><svg class='icon xr-icon-database'><use xlink:href='#icon-database'></use></svg></label><div class='xr-var-attrs'><dl class='xr-attrs'><dt><span>units :</span></dt><dd>degrees_east</dd><dt><span>long_name :</span></dt><dd>longitude</dd></dl></div><div class='xr-var-data'><pre>array([-8.  , -7.75, -7.5 , -7.25, -7.  , -6.75, -6.5 , -6.25, -6.  , -5.75,\n       -5.5 , -5.25, -5.  , -4.75, -4.5 , -4.25, -4.  , -3.75, -3.5 , -3.25,\n       -3.  , -2.75, -2.5 , -2.25, -2.  , -1.75, -1.5 , -1.25, -1.  , -0.75,\n       -0.5 , -0.25,  0.  ,  0.25,  0.5 ,  0.75,  1.  ,  1.25,  1.5 ,  1.75,\n        2.  ,  2.25,  2.5 ,  2.75,  3.  ,  3.25,  3.5 ,  3.75,  4.  ],\n      dtype=float32)</pre></div></li><li class='xr-var-item'><div class='xr-var-name'><span class='xr-has-index'>latitude</span></div><div class='xr-var-dims'>(latitude)</div><div class='xr-var-dtype'>float32</div><div class='xr-var-preview xr-preview'>60.0 59.75 59.5 ... 48.5 48.25 48.0</div><input id='attrs-a8f6b8e7-10b4-46c3-8a91-85b717a3fb6e' class='xr-var-attrs-in' type='checkbox' ><label for='attrs-a8f6b8e7-10b4-46c3-8a91-85b717a3fb6e' title='Show/Hide attributes'><svg class='icon xr-icon-file-text2'><use xlink:href='#icon-file-text2'></use></svg></label><input id='data-c7cf72bf-5bd2-4ba6-81a2-53d8a43f6079' class='xr-var-data-in' type='checkbox'><label for='data-c7cf72bf-5bd2-4ba6-81a2-53d8a43f6079' title='Show/Hide data repr'><svg class='icon xr-icon-database'><use xlink:href='#icon-database'></use></svg></label><div class='xr-var-attrs'><dl class='xr-attrs'><dt><span>units :</span></dt><dd>degrees_north</dd><dt><span>long_name :</span></dt><dd>latitude</dd></dl></div><div class='xr-var-data'><pre>array([60.  , 59.75, 59.5 , 59.25, 59.  , 58.75, 58.5 , 58.25, 58.  , 57.75,\n       57.5 , 57.25, 57.  , 56.75, 56.5 , 56.25, 56.  , 55.75, 55.5 , 55.25,\n       55.  , 54.75, 54.5 , 54.25, 54.  , 53.75, 53.5 , 53.25, 53.  , 52.75,\n       52.5 , 52.25, 52.  , 51.75, 51.5 , 51.25, 51.  , 50.75, 50.5 , 50.25,\n       50.  , 49.75, 49.5 , 49.25, 49.  , 48.75, 48.5 , 48.25, 48.  ],\n      dtype=float32)</pre></div></li></ul></div></li><li class='xr-section-item'><input id='section-d20a1b5f-baf8-46df-87d4-d577e4b02a8c' class='xr-section-summary-in' type='checkbox'  checked><label for='section-d20a1b5f-baf8-46df-87d4-d577e4b02a8c' class='xr-section-summary' >Data variables: <span>(1)</span></label><div class='xr-section-inline-details'></div><div class='xr-section-details'><ul class='xr-var-list'><li class='xr-var-item'><div class='xr-var-name'><span>tp</span></div><div class='xr-var-dims'>(time, latitude, longitude)</div><div class='xr-var-dtype'>float32</div><div class='xr-var-preview xr-preview'>...</div><input id='attrs-d67b5b3b-72c2-44e3-bcea-d9b917c799ba' class='xr-var-attrs-in' type='checkbox' ><label for='attrs-d67b5b3b-72c2-44e3-bcea-d9b917c799ba' title='Show/Hide attributes'><svg class='icon xr-icon-file-text2'><use xlink:href='#icon-file-text2'></use></svg></label><input id='data-8084ef64-94ce-4b7d-92a6-3e3a1d7cd245' class='xr-var-data-in' type='checkbox'><label for='data-8084ef64-94ce-4b7d-92a6-3e3a1d7cd245' title='Show/Hide data repr'><svg class='icon xr-icon-database'><use xlink:href='#icon-database'></use></svg></label><div class='xr-var-attrs'><dl class='xr-attrs'><dt><span>units :</span></dt><dd>m</dd><dt><span>long_name :</span></dt><dd>Total precipitation</dd></dl></div><div class='xr-var-data'><pre>[878766 values with dtype=float32]</pre></div></li></ul></div></li><li class='xr-section-item'><input id='section-7d543d75-0bb3-4e93-b169-b749354b3439' class='xr-section-summary-in' type='checkbox'  ><label for='section-7d543d75-0bb3-4e93-b169-b749354b3439' class='xr-section-summary' >Indexes: <span>(3)</span></label><div class='xr-section-inline-details'></div><div class='xr-section-details'><ul class='xr-var-list'><li class='xr-var-item'><div class='xr-index-name'><div>time</div></div><div class='xr-index-preview'>PandasIndex</div><div></div><input id='index-0e05851b-c5c2-4120-8d8b-fa3431224fe2' class='xr-index-data-in' type='checkbox'/><label for='index-0e05851b-c5c2-4120-8d8b-fa3431224fe2' title='Show/Hide index repr'><svg class='icon xr-icon-database'><use xlink:href='#icon-database'></use></svg></label><div class='xr-index-data'><pre>PandasIndex(DatetimeIndex([&#x27;1980-01-01&#x27;, &#x27;1980-01-02&#x27;, &#x27;1980-01-03&#x27;, &#x27;1980-01-04&#x27;,\n               &#x27;1980-01-05&#x27;, &#x27;1980-01-06&#x27;, &#x27;1980-01-07&#x27;, &#x27;1980-01-08&#x27;,\n               &#x27;1980-01-09&#x27;, &#x27;1980-01-10&#x27;,\n               ...\n               &#x27;1980-12-22&#x27;, &#x27;1980-12-23&#x27;, &#x27;1980-12-24&#x27;, &#x27;1980-12-25&#x27;,\n               &#x27;1980-12-26&#x27;, &#x27;1980-12-27&#x27;, &#x27;1980-12-28&#x27;, &#x27;1980-12-29&#x27;,\n               &#x27;1980-12-30&#x27;, &#x27;1980-12-31&#x27;],\n              dtype=&#x27;datetime64[ns]&#x27;, name=&#x27;time&#x27;, length=366, freq=None))</pre></div></li><li class='xr-var-item'><div class='xr-index-name'><div>longitude</div></div><div class='xr-index-preview'>PandasIndex</div><div></div><input id='index-7b001751-4228-49d9-ad24-204efcfbe418' class='xr-index-data-in' type='checkbox'/><label for='index-7b001751-4228-49d9-ad24-204efcfbe418' title='Show/Hide index repr'><svg class='icon xr-icon-database'><use xlink:href='#icon-database'></use></svg></label><div class='xr-index-data'><pre>PandasIndex(Index([ -8.0, -7.75,  -7.5, -7.25,  -7.0, -6.75,  -6.5, -6.25,  -6.0, -5.75,\n        -5.5, -5.25,  -5.0, -4.75,  -4.5, -4.25,  -4.0, -3.75,  -3.5, -3.25,\n        -3.0, -2.75,  -2.5, -2.25,  -2.0, -1.75,  -1.5, -1.25,  -1.0, -0.75,\n        -0.5, -0.25,   0.0,  0.25,   0.5,  0.75,   1.0,  1.25,   1.5,  1.75,\n         2.0,  2.25,   2.5,  2.75,   3.0,  3.25,   3.5,  3.75,   4.0],\n      dtype=&#x27;float32&#x27;, name=&#x27;longitude&#x27;))</pre></div></li><li class='xr-var-item'><div class='xr-index-name'><div>latitude</div></div><div class='xr-index-preview'>PandasIndex</div><div></div><input id='index-2225de04-f672-4483-9332-3a20cff13ab4' class='xr-index-data-in' type='checkbox'/><label for='index-2225de04-f672-4483-9332-3a20cff13ab4' title='Show/Hide index repr'><svg class='icon xr-icon-database'><use xlink:href='#icon-database'></use></svg></label><div class='xr-index-data'><pre>PandasIndex(Index([ 60.0, 59.75,  59.5, 59.25,  59.0, 58.75,  58.5, 58.25,  58.0, 57.75,\n        57.5, 57.25,  57.0, 56.75,  56.5, 56.25,  56.0, 55.75,  55.5, 55.25,\n        55.0, 54.75,  54.5, 54.25,  54.0, 53.75,  53.5, 53.25,  53.0, 52.75,\n        52.5, 52.25,  52.0, 51.75,  51.5, 51.25,  51.0, 50.75,  50.5, 50.25,\n        50.0, 49.75,  49.5, 49.25,  49.0, 48.75,  48.5, 48.25,  48.0],\n      dtype=&#x27;float32&#x27;, name=&#x27;latitude&#x27;))</pre></div></li></ul></div></li><li class='xr-section-item'><input id='section-540ff990-6e2d-4a0c-ad6f-c320dd68675a' class='xr-section-summary-in' type='checkbox'  checked><label for='section-540ff990-6e2d-4a0c-ad6f-c320dd68675a' class='xr-section-summary' >Attributes: <span>(2)</span></label><div class='xr-section-inline-details'></div><div class='xr-section-details'><dl class='xr-attrs'><dt><span>Conventions :</span></dt><dd>CF-1.6</dd><dt><span>history :</span></dt><dd>2024-04-14 12:05:10 GMT by grib_to_netcdf-2.25.1: /opt/ecmwf/mars-client/bin/grib_to_netcdf.bin -S param -o /cache/data8/adaptor.mars.internal-1713096277.513365-14343-4-017f2f8f-f692-44f9-a864-9a1ea9f32f88.nc /cache/tmp/017f2f8f-f692-44f9-a864-9a1ea9f32f88-adaptor.mars.internal-1713095718.4804094-14343-6-tmp.grib</dd></dl></div></li></ul></div></div>"
     },
     "execution_count": 10,
     "metadata": {},
     "output_type": "execute_result"
    }
   ],
   "source": [
    "file_path = 'Rainfall_1980_aggregated.nc'\n",
    "\n",
    "ds = xr.open_dataset(file_path)\n",
    "ds"
   ],
   "metadata": {
    "collapsed": false,
    "ExecuteTime": {
     "end_time": "2024-04-15T09:40:19.797451500Z",
     "start_time": "2024-04-15T09:40:19.759504600Z"
    }
   },
   "id": "2299df02b58a2164"
  },
  {
   "cell_type": "code",
   "execution_count": 72,
   "outputs": [],
   "source": [
    "domain_weather = xr.open_mfdataset(['Rainfall.nc',\n",
    "                                    'Pressure.nc'])\n",
    "surface_data = xr.open_dataset('Soil_Moisture.nc')"
   ],
   "metadata": {
    "collapsed": false,
    "ExecuteTime": {
     "end_time": "2024-04-27T12:32:48.260749400Z",
     "start_time": "2024-04-27T12:32:48.163600900Z"
    }
   },
   "id": "7c728532915504dd"
  },
  {
   "cell_type": "code",
   "execution_count": 91,
   "outputs": [
    {
     "data": {
      "text/plain": "<module 'apollo.hydropoint' from 'C:\\\\Users\\\\aline\\\\soil-moisture-proxies\\\\apollo\\\\hydropoint.py'>"
     },
     "execution_count": 91,
     "metadata": {},
     "output_type": "execute_result"
    }
   ],
   "source": [
    "importlib.reload(hydropoint)"
   ],
   "metadata": {
    "collapsed": false,
    "ExecuteTime": {
     "end_time": "2024-04-27T12:48:39.007526Z",
     "start_time": "2024-04-27T12:48:38.961444800Z"
    }
   },
   "id": "82163a366a473b84"
  },
  {
   "cell_type": "code",
   "execution_count": 92,
   "outputs": [
    {
     "name": "stdout",
     "output_type": "stream",
     "text": [
      "<apollo.hydropoint.hydrobase object at 0x00000231E032A190>\n"
     ]
    }
   ],
   "source": [
    "db = pd.read_csv('Catchment_Database.csv')\n",
    "for i in range(len(db)):\n",
    "    test = hydropoint.hydrobase(db.loc[i][0], db.loc[i][3], db.loc[i][4])\n",
    "print(test)"
   ],
   "metadata": {
    "collapsed": false,
    "ExecuteTime": {
     "end_time": "2024-04-27T12:48:39.619254800Z",
     "start_time": "2024-04-27T12:48:39.500754700Z"
    }
   },
   "id": "519f1c5b737a9918"
  },
  {
   "cell_type": "code",
   "execution_count": 93,
   "outputs": [],
   "source": [
    "days = 28\n",
    "outdf = test.flow_meteorolgy_combine(domain_weather, surface_data, days)\n",
    "#outpath = str(self.station) + '_lumped.csv'\n",
    "#outdf.to_csv(outpath, index=True)"
   ],
   "metadata": {
    "collapsed": false,
    "ExecuteTime": {
     "end_time": "2024-04-27T12:48:44.842743200Z",
     "start_time": "2024-04-27T12:48:40.349773500Z"
    }
   },
   "id": "819c8820f983db97"
  },
  {
   "cell_type": "code",
   "execution_count": 94,
   "outputs": [
    {
     "data": {
      "text/plain": "             Date    Flow  Temperature  U Windspeed  V Windspeed    Humidity  \\\n179    1979-06-29   9.654   282.597930     4.351510     0.944776   83.392270   \n180    1979-06-30   9.730   281.037340     3.683683    -2.257421   65.197733   \n181    1979-07-01   5.846   284.745192     4.448323    -0.333201   69.357661   \n182    1979-07-02   4.232   285.430261     4.511554     1.384902   78.912655   \n183    1979-07-03   3.607   288.045636     2.799352     0.458578   65.002569   \n...           ...     ...          ...          ...          ...         ...   \n15701  2021-12-27   6.629   278.783492    -0.496029     1.618723   95.908229   \n15702  2021-12-28   8.270   278.013985     0.233542     0.743381  100.357239   \n15703  2021-12-29  27.620   279.755516    -2.302575     2.796058   91.132859   \n15704  2021-12-30  40.830   285.346902     3.526217     3.450856   92.228023   \n15705  2021-12-31  14.750   284.123018    -0.664250     0.774177   99.356866   \n\n           Rain  Resultant Windspeed    Rain-1    Rain-2  ...  Humidity-25  \\\n179    4.181380             4.452891  0.889576  0.100817  ...    64.267386   \n180    0.687574             4.320355  4.181380  0.889576  ...    95.441514   \n181    0.717311             4.460785  0.687574  4.181380  ...    50.771454   \n182    0.100297             4.719330  0.717311  0.687574  ...    69.790186   \n183    0.010104             2.836665  0.100297  0.717311  ...    82.045223   \n...         ...                  ...       ...       ...  ...          ...   \n15701  1.710861             1.693018  0.198059  0.037088  ...    80.461919   \n15702  0.321579             0.779203  1.710861  0.198059  ...    88.843708   \n15703  8.542511             3.622125  0.321579  1.710861  ...   100.360694   \n15704  3.634520             4.933823  8.542511  0.321579  ...    85.343484   \n15705  2.545359             1.020087  3.634520  8.542511  ...    86.057290   \n\n       Humidity-26  Humidity-27  Humidity_28_Mu  Humidity_90_Mu  \\\n179      56.077831    47.931048       69.844041       68.247992   \n180      64.267386    56.077831       70.460708       68.130294   \n181      95.441514    64.267386       70.934988       68.203607   \n182      50.771454    95.441514       71.458033       68.137718   \n183      69.790186    50.771454       70.370928       68.128275   \n...            ...          ...             ...             ...   \n15701    87.395166    98.857538       89.743645       84.737521   \n15702    80.461919    87.395166       89.797205       85.120314   \n15703    88.843708    80.461919       89.930694       85.148566   \n15704   100.360694    88.843708       90.350912       85.317745   \n15705    85.343484   100.360694       90.726382       85.681140   \n\n       Humidity_180_Mu  Soil Moisture 1  Soil Moisture 2  Soil Moisture 3  \\\n179          75.545634         0.254181         0.243434         0.219750   \n180          75.436394         0.246692         0.243917         0.219100   \n181          75.346883         0.235974         0.239829         0.218229   \n182          75.310331         0.230940         0.236197         0.217307   \n183          75.141033         0.219441         0.230287         0.215837   \n...                ...              ...              ...              ...   \n15701        78.166030         0.271568         0.266287         0.282178   \n15702        78.481938         0.262474         0.264933         0.281010   \n15703        78.690262         0.311028         0.263023         0.279705   \n15704        78.807801         0.316017         0.309548         0.282402   \n15705        78.971921         0.293488         0.297948         0.287132   \n\n       Soil Moisture 4  \n179           0.276735  \n180           0.276375  \n181           0.275998  \n182           0.275635  \n183           0.275231  \n...                ...  \n15701         0.286019  \n15702         0.285985  \n15703         0.285942  \n15704         0.285897  \n15705         0.285937  \n\n[15527 rows x 132 columns]",
      "text/html": "<div>\n<style scoped>\n    .dataframe tbody tr th:only-of-type {\n        vertical-align: middle;\n    }\n\n    .dataframe tbody tr th {\n        vertical-align: top;\n    }\n\n    .dataframe thead th {\n        text-align: right;\n    }\n</style>\n<table border=\"1\" class=\"dataframe\">\n  <thead>\n    <tr style=\"text-align: right;\">\n      <th></th>\n      <th>Date</th>\n      <th>Flow</th>\n      <th>Temperature</th>\n      <th>U Windspeed</th>\n      <th>V Windspeed</th>\n      <th>Humidity</th>\n      <th>Rain</th>\n      <th>Resultant Windspeed</th>\n      <th>Rain-1</th>\n      <th>Rain-2</th>\n      <th>...</th>\n      <th>Humidity-25</th>\n      <th>Humidity-26</th>\n      <th>Humidity-27</th>\n      <th>Humidity_28_Mu</th>\n      <th>Humidity_90_Mu</th>\n      <th>Humidity_180_Mu</th>\n      <th>Soil Moisture 1</th>\n      <th>Soil Moisture 2</th>\n      <th>Soil Moisture 3</th>\n      <th>Soil Moisture 4</th>\n    </tr>\n  </thead>\n  <tbody>\n    <tr>\n      <th>179</th>\n      <td>1979-06-29</td>\n      <td>9.654</td>\n      <td>282.597930</td>\n      <td>4.351510</td>\n      <td>0.944776</td>\n      <td>83.392270</td>\n      <td>4.181380</td>\n      <td>4.452891</td>\n      <td>0.889576</td>\n      <td>0.100817</td>\n      <td>...</td>\n      <td>64.267386</td>\n      <td>56.077831</td>\n      <td>47.931048</td>\n      <td>69.844041</td>\n      <td>68.247992</td>\n      <td>75.545634</td>\n      <td>0.254181</td>\n      <td>0.243434</td>\n      <td>0.219750</td>\n      <td>0.276735</td>\n    </tr>\n    <tr>\n      <th>180</th>\n      <td>1979-06-30</td>\n      <td>9.730</td>\n      <td>281.037340</td>\n      <td>3.683683</td>\n      <td>-2.257421</td>\n      <td>65.197733</td>\n      <td>0.687574</td>\n      <td>4.320355</td>\n      <td>4.181380</td>\n      <td>0.889576</td>\n      <td>...</td>\n      <td>95.441514</td>\n      <td>64.267386</td>\n      <td>56.077831</td>\n      <td>70.460708</td>\n      <td>68.130294</td>\n      <td>75.436394</td>\n      <td>0.246692</td>\n      <td>0.243917</td>\n      <td>0.219100</td>\n      <td>0.276375</td>\n    </tr>\n    <tr>\n      <th>181</th>\n      <td>1979-07-01</td>\n      <td>5.846</td>\n      <td>284.745192</td>\n      <td>4.448323</td>\n      <td>-0.333201</td>\n      <td>69.357661</td>\n      <td>0.717311</td>\n      <td>4.460785</td>\n      <td>0.687574</td>\n      <td>4.181380</td>\n      <td>...</td>\n      <td>50.771454</td>\n      <td>95.441514</td>\n      <td>64.267386</td>\n      <td>70.934988</td>\n      <td>68.203607</td>\n      <td>75.346883</td>\n      <td>0.235974</td>\n      <td>0.239829</td>\n      <td>0.218229</td>\n      <td>0.275998</td>\n    </tr>\n    <tr>\n      <th>182</th>\n      <td>1979-07-02</td>\n      <td>4.232</td>\n      <td>285.430261</td>\n      <td>4.511554</td>\n      <td>1.384902</td>\n      <td>78.912655</td>\n      <td>0.100297</td>\n      <td>4.719330</td>\n      <td>0.717311</td>\n      <td>0.687574</td>\n      <td>...</td>\n      <td>69.790186</td>\n      <td>50.771454</td>\n      <td>95.441514</td>\n      <td>71.458033</td>\n      <td>68.137718</td>\n      <td>75.310331</td>\n      <td>0.230940</td>\n      <td>0.236197</td>\n      <td>0.217307</td>\n      <td>0.275635</td>\n    </tr>\n    <tr>\n      <th>183</th>\n      <td>1979-07-03</td>\n      <td>3.607</td>\n      <td>288.045636</td>\n      <td>2.799352</td>\n      <td>0.458578</td>\n      <td>65.002569</td>\n      <td>0.010104</td>\n      <td>2.836665</td>\n      <td>0.100297</td>\n      <td>0.717311</td>\n      <td>...</td>\n      <td>82.045223</td>\n      <td>69.790186</td>\n      <td>50.771454</td>\n      <td>70.370928</td>\n      <td>68.128275</td>\n      <td>75.141033</td>\n      <td>0.219441</td>\n      <td>0.230287</td>\n      <td>0.215837</td>\n      <td>0.275231</td>\n    </tr>\n    <tr>\n      <th>...</th>\n      <td>...</td>\n      <td>...</td>\n      <td>...</td>\n      <td>...</td>\n      <td>...</td>\n      <td>...</td>\n      <td>...</td>\n      <td>...</td>\n      <td>...</td>\n      <td>...</td>\n      <td>...</td>\n      <td>...</td>\n      <td>...</td>\n      <td>...</td>\n      <td>...</td>\n      <td>...</td>\n      <td>...</td>\n      <td>...</td>\n      <td>...</td>\n      <td>...</td>\n      <td>...</td>\n    </tr>\n    <tr>\n      <th>15701</th>\n      <td>2021-12-27</td>\n      <td>6.629</td>\n      <td>278.783492</td>\n      <td>-0.496029</td>\n      <td>1.618723</td>\n      <td>95.908229</td>\n      <td>1.710861</td>\n      <td>1.693018</td>\n      <td>0.198059</td>\n      <td>0.037088</td>\n      <td>...</td>\n      <td>80.461919</td>\n      <td>87.395166</td>\n      <td>98.857538</td>\n      <td>89.743645</td>\n      <td>84.737521</td>\n      <td>78.166030</td>\n      <td>0.271568</td>\n      <td>0.266287</td>\n      <td>0.282178</td>\n      <td>0.286019</td>\n    </tr>\n    <tr>\n      <th>15702</th>\n      <td>2021-12-28</td>\n      <td>8.270</td>\n      <td>278.013985</td>\n      <td>0.233542</td>\n      <td>0.743381</td>\n      <td>100.357239</td>\n      <td>0.321579</td>\n      <td>0.779203</td>\n      <td>1.710861</td>\n      <td>0.198059</td>\n      <td>...</td>\n      <td>88.843708</td>\n      <td>80.461919</td>\n      <td>87.395166</td>\n      <td>89.797205</td>\n      <td>85.120314</td>\n      <td>78.481938</td>\n      <td>0.262474</td>\n      <td>0.264933</td>\n      <td>0.281010</td>\n      <td>0.285985</td>\n    </tr>\n    <tr>\n      <th>15703</th>\n      <td>2021-12-29</td>\n      <td>27.620</td>\n      <td>279.755516</td>\n      <td>-2.302575</td>\n      <td>2.796058</td>\n      <td>91.132859</td>\n      <td>8.542511</td>\n      <td>3.622125</td>\n      <td>0.321579</td>\n      <td>1.710861</td>\n      <td>...</td>\n      <td>100.360694</td>\n      <td>88.843708</td>\n      <td>80.461919</td>\n      <td>89.930694</td>\n      <td>85.148566</td>\n      <td>78.690262</td>\n      <td>0.311028</td>\n      <td>0.263023</td>\n      <td>0.279705</td>\n      <td>0.285942</td>\n    </tr>\n    <tr>\n      <th>15704</th>\n      <td>2021-12-30</td>\n      <td>40.830</td>\n      <td>285.346902</td>\n      <td>3.526217</td>\n      <td>3.450856</td>\n      <td>92.228023</td>\n      <td>3.634520</td>\n      <td>4.933823</td>\n      <td>8.542511</td>\n      <td>0.321579</td>\n      <td>...</td>\n      <td>85.343484</td>\n      <td>100.360694</td>\n      <td>88.843708</td>\n      <td>90.350912</td>\n      <td>85.317745</td>\n      <td>78.807801</td>\n      <td>0.316017</td>\n      <td>0.309548</td>\n      <td>0.282402</td>\n      <td>0.285897</td>\n    </tr>\n    <tr>\n      <th>15705</th>\n      <td>2021-12-31</td>\n      <td>14.750</td>\n      <td>284.123018</td>\n      <td>-0.664250</td>\n      <td>0.774177</td>\n      <td>99.356866</td>\n      <td>2.545359</td>\n      <td>1.020087</td>\n      <td>3.634520</td>\n      <td>8.542511</td>\n      <td>...</td>\n      <td>86.057290</td>\n      <td>85.343484</td>\n      <td>100.360694</td>\n      <td>90.726382</td>\n      <td>85.681140</td>\n      <td>78.971921</td>\n      <td>0.293488</td>\n      <td>0.297948</td>\n      <td>0.287132</td>\n      <td>0.285937</td>\n    </tr>\n  </tbody>\n</table>\n<p>15527 rows × 132 columns</p>\n</div>"
     },
     "execution_count": 94,
     "metadata": {},
     "output_type": "execute_result"
    }
   ],
   "source": [
    "outdf"
   ],
   "metadata": {
    "collapsed": false,
    "ExecuteTime": {
     "end_time": "2024-04-27T12:48:46.102767400Z",
     "start_time": "2024-04-27T12:48:46.065972500Z"
    }
   },
   "id": "bfd6d4210135cb49"
  },
  {
   "cell_type": "code",
   "execution_count": 90,
   "outputs": [
    {
     "data": {
      "text/plain": "             Date  Temperature  U Windspeed  V Windspeed    Humidity  \\\n0      1979-01-01   271.576250     2.304902     0.946802   84.860900   \n1      1979-01-02   272.984203    -0.102852     1.894139   85.469579   \n2      1979-01-03   275.197394     0.185399     3.487820   85.492037   \n3      1979-01-04   273.443249    -0.037133    -0.553775   95.476273   \n4      1979-01-05   270.880672     0.684582     2.238401   93.179481   \n...           ...          ...          ...          ...         ...   \n15701  2021-12-27   278.783492    -0.496029     1.618723   95.908229   \n15702  2021-12-28   278.013985     0.233542     0.743381  100.357239   \n15703  2021-12-29   279.755516    -2.302575     2.796058   91.132859   \n15704  2021-12-30   285.346902     3.526217     3.450856   92.228023   \n15705  2021-12-31   284.123018    -0.664250     0.774177   99.356866   \n\n           Rain  Resultant Windspeed    Rain-1    Rain-2    Rain-3  ...  \\\n0      0.782791             2.491788       NaN       NaN       NaN  ...   \n1      1.253943             1.896930  0.782791       NaN       NaN  ...   \n2      0.597700             3.492744  1.253943  0.782791       NaN  ...   \n3      8.640998             0.555019  0.597700  1.253943  0.782791  ...   \n4      1.960725             2.340746  8.640998  0.597700  1.253943  ...   \n...         ...                  ...       ...       ...       ...  ...   \n15701  1.710861             1.693018  0.198059  0.037088  3.132288  ...   \n15702  0.321579             0.779203  1.710861  0.198059  0.037088  ...   \n15703  8.542511             3.622125  0.321579  1.710861  0.198059  ...   \n15704  3.634520             4.933823  8.542511  0.321579  1.710861  ...   \n15705  2.545359             1.020087  3.634520  8.542511  0.321579  ...   \n\n       Humidity-21  Humidity-22  Humidity-23  Humidity-24  Humidity-25  \\\n0              NaN          NaN          NaN          NaN          NaN   \n1              NaN          NaN          NaN          NaN          NaN   \n2              NaN          NaN          NaN          NaN          NaN   \n3              NaN          NaN          NaN          NaN          NaN   \n4              NaN          NaN          NaN          NaN          NaN   \n...            ...          ...          ...          ...          ...   \n15701    86.057290    85.343484   100.360694    88.843708    80.461919   \n15702    74.293444    86.057290    85.343484   100.360694    88.843708   \n15703    98.922584    74.293444    86.057290    85.343484   100.360694   \n15704    93.453139    98.922584    74.293444    86.057290    85.343484   \n15705    88.596812    93.453139    98.922584    74.293444    86.057290   \n\n       Humidity-26  Humidity-27  Humidity_28_Mu  Humidity_90_Mu  \\\n0              NaN          NaN             NaN             NaN   \n1              NaN          NaN             NaN             NaN   \n2              NaN          NaN             NaN             NaN   \n3              NaN          NaN             NaN             NaN   \n4              NaN          NaN             NaN             NaN   \n...            ...          ...             ...             ...   \n15701    87.395166    98.857538       89.743645       84.737521   \n15702    80.461919    87.395166       89.797205       85.120314   \n15703    88.843708    80.461919       89.930694       85.148566   \n15704   100.360694    88.843708       90.350912       85.317745   \n15705    85.343484   100.360694       90.726382       85.681140   \n\n       Humidity_180_Mu  \n0                  NaN  \n1                  NaN  \n2                  NaN  \n3                  NaN  \n4                  NaN  \n...                ...  \n15701        78.166030  \n15702        78.481938  \n15703        78.690262  \n15704        78.807801  \n15705        78.971921  \n\n[15706 rows x 127 columns]",
      "text/html": "<div>\n<style scoped>\n    .dataframe tbody tr th:only-of-type {\n        vertical-align: middle;\n    }\n\n    .dataframe tbody tr th {\n        vertical-align: top;\n    }\n\n    .dataframe thead th {\n        text-align: right;\n    }\n</style>\n<table border=\"1\" class=\"dataframe\">\n  <thead>\n    <tr style=\"text-align: right;\">\n      <th></th>\n      <th>Date</th>\n      <th>Temperature</th>\n      <th>U Windspeed</th>\n      <th>V Windspeed</th>\n      <th>Humidity</th>\n      <th>Rain</th>\n      <th>Resultant Windspeed</th>\n      <th>Rain-1</th>\n      <th>Rain-2</th>\n      <th>Rain-3</th>\n      <th>...</th>\n      <th>Humidity-21</th>\n      <th>Humidity-22</th>\n      <th>Humidity-23</th>\n      <th>Humidity-24</th>\n      <th>Humidity-25</th>\n      <th>Humidity-26</th>\n      <th>Humidity-27</th>\n      <th>Humidity_28_Mu</th>\n      <th>Humidity_90_Mu</th>\n      <th>Humidity_180_Mu</th>\n    </tr>\n  </thead>\n  <tbody>\n    <tr>\n      <th>0</th>\n      <td>1979-01-01</td>\n      <td>271.576250</td>\n      <td>2.304902</td>\n      <td>0.946802</td>\n      <td>84.860900</td>\n      <td>0.782791</td>\n      <td>2.491788</td>\n      <td>NaN</td>\n      <td>NaN</td>\n      <td>NaN</td>\n      <td>...</td>\n      <td>NaN</td>\n      <td>NaN</td>\n      <td>NaN</td>\n      <td>NaN</td>\n      <td>NaN</td>\n      <td>NaN</td>\n      <td>NaN</td>\n      <td>NaN</td>\n      <td>NaN</td>\n      <td>NaN</td>\n    </tr>\n    <tr>\n      <th>1</th>\n      <td>1979-01-02</td>\n      <td>272.984203</td>\n      <td>-0.102852</td>\n      <td>1.894139</td>\n      <td>85.469579</td>\n      <td>1.253943</td>\n      <td>1.896930</td>\n      <td>0.782791</td>\n      <td>NaN</td>\n      <td>NaN</td>\n      <td>...</td>\n      <td>NaN</td>\n      <td>NaN</td>\n      <td>NaN</td>\n      <td>NaN</td>\n      <td>NaN</td>\n      <td>NaN</td>\n      <td>NaN</td>\n      <td>NaN</td>\n      <td>NaN</td>\n      <td>NaN</td>\n    </tr>\n    <tr>\n      <th>2</th>\n      <td>1979-01-03</td>\n      <td>275.197394</td>\n      <td>0.185399</td>\n      <td>3.487820</td>\n      <td>85.492037</td>\n      <td>0.597700</td>\n      <td>3.492744</td>\n      <td>1.253943</td>\n      <td>0.782791</td>\n      <td>NaN</td>\n      <td>...</td>\n      <td>NaN</td>\n      <td>NaN</td>\n      <td>NaN</td>\n      <td>NaN</td>\n      <td>NaN</td>\n      <td>NaN</td>\n      <td>NaN</td>\n      <td>NaN</td>\n      <td>NaN</td>\n      <td>NaN</td>\n    </tr>\n    <tr>\n      <th>3</th>\n      <td>1979-01-04</td>\n      <td>273.443249</td>\n      <td>-0.037133</td>\n      <td>-0.553775</td>\n      <td>95.476273</td>\n      <td>8.640998</td>\n      <td>0.555019</td>\n      <td>0.597700</td>\n      <td>1.253943</td>\n      <td>0.782791</td>\n      <td>...</td>\n      <td>NaN</td>\n      <td>NaN</td>\n      <td>NaN</td>\n      <td>NaN</td>\n      <td>NaN</td>\n      <td>NaN</td>\n      <td>NaN</td>\n      <td>NaN</td>\n      <td>NaN</td>\n      <td>NaN</td>\n    </tr>\n    <tr>\n      <th>4</th>\n      <td>1979-01-05</td>\n      <td>270.880672</td>\n      <td>0.684582</td>\n      <td>2.238401</td>\n      <td>93.179481</td>\n      <td>1.960725</td>\n      <td>2.340746</td>\n      <td>8.640998</td>\n      <td>0.597700</td>\n      <td>1.253943</td>\n      <td>...</td>\n      <td>NaN</td>\n      <td>NaN</td>\n      <td>NaN</td>\n      <td>NaN</td>\n      <td>NaN</td>\n      <td>NaN</td>\n      <td>NaN</td>\n      <td>NaN</td>\n      <td>NaN</td>\n      <td>NaN</td>\n    </tr>\n    <tr>\n      <th>...</th>\n      <td>...</td>\n      <td>...</td>\n      <td>...</td>\n      <td>...</td>\n      <td>...</td>\n      <td>...</td>\n      <td>...</td>\n      <td>...</td>\n      <td>...</td>\n      <td>...</td>\n      <td>...</td>\n      <td>...</td>\n      <td>...</td>\n      <td>...</td>\n      <td>...</td>\n      <td>...</td>\n      <td>...</td>\n      <td>...</td>\n      <td>...</td>\n      <td>...</td>\n      <td>...</td>\n    </tr>\n    <tr>\n      <th>15701</th>\n      <td>2021-12-27</td>\n      <td>278.783492</td>\n      <td>-0.496029</td>\n      <td>1.618723</td>\n      <td>95.908229</td>\n      <td>1.710861</td>\n      <td>1.693018</td>\n      <td>0.198059</td>\n      <td>0.037088</td>\n      <td>3.132288</td>\n      <td>...</td>\n      <td>86.057290</td>\n      <td>85.343484</td>\n      <td>100.360694</td>\n      <td>88.843708</td>\n      <td>80.461919</td>\n      <td>87.395166</td>\n      <td>98.857538</td>\n      <td>89.743645</td>\n      <td>84.737521</td>\n      <td>78.166030</td>\n    </tr>\n    <tr>\n      <th>15702</th>\n      <td>2021-12-28</td>\n      <td>278.013985</td>\n      <td>0.233542</td>\n      <td>0.743381</td>\n      <td>100.357239</td>\n      <td>0.321579</td>\n      <td>0.779203</td>\n      <td>1.710861</td>\n      <td>0.198059</td>\n      <td>0.037088</td>\n      <td>...</td>\n      <td>74.293444</td>\n      <td>86.057290</td>\n      <td>85.343484</td>\n      <td>100.360694</td>\n      <td>88.843708</td>\n      <td>80.461919</td>\n      <td>87.395166</td>\n      <td>89.797205</td>\n      <td>85.120314</td>\n      <td>78.481938</td>\n    </tr>\n    <tr>\n      <th>15703</th>\n      <td>2021-12-29</td>\n      <td>279.755516</td>\n      <td>-2.302575</td>\n      <td>2.796058</td>\n      <td>91.132859</td>\n      <td>8.542511</td>\n      <td>3.622125</td>\n      <td>0.321579</td>\n      <td>1.710861</td>\n      <td>0.198059</td>\n      <td>...</td>\n      <td>98.922584</td>\n      <td>74.293444</td>\n      <td>86.057290</td>\n      <td>85.343484</td>\n      <td>100.360694</td>\n      <td>88.843708</td>\n      <td>80.461919</td>\n      <td>89.930694</td>\n      <td>85.148566</td>\n      <td>78.690262</td>\n    </tr>\n    <tr>\n      <th>15704</th>\n      <td>2021-12-30</td>\n      <td>285.346902</td>\n      <td>3.526217</td>\n      <td>3.450856</td>\n      <td>92.228023</td>\n      <td>3.634520</td>\n      <td>4.933823</td>\n      <td>8.542511</td>\n      <td>0.321579</td>\n      <td>1.710861</td>\n      <td>...</td>\n      <td>93.453139</td>\n      <td>98.922584</td>\n      <td>74.293444</td>\n      <td>86.057290</td>\n      <td>85.343484</td>\n      <td>100.360694</td>\n      <td>88.843708</td>\n      <td>90.350912</td>\n      <td>85.317745</td>\n      <td>78.807801</td>\n    </tr>\n    <tr>\n      <th>15705</th>\n      <td>2021-12-31</td>\n      <td>284.123018</td>\n      <td>-0.664250</td>\n      <td>0.774177</td>\n      <td>99.356866</td>\n      <td>2.545359</td>\n      <td>1.020087</td>\n      <td>3.634520</td>\n      <td>8.542511</td>\n      <td>0.321579</td>\n      <td>...</td>\n      <td>88.596812</td>\n      <td>93.453139</td>\n      <td>98.922584</td>\n      <td>74.293444</td>\n      <td>86.057290</td>\n      <td>85.343484</td>\n      <td>100.360694</td>\n      <td>90.726382</td>\n      <td>85.681140</td>\n      <td>78.971921</td>\n    </tr>\n  </tbody>\n</table>\n<p>15706 rows × 127 columns</p>\n</div>"
     },
     "execution_count": 90,
     "metadata": {},
     "output_type": "execute_result"
    }
   ],
   "source": [
    "from apollo import mechanics as ma\n",
    "\n",
    "weather = test.meteorological_extraction(domain_weather)\n",
    "surface = test.meteorological_extraction(surface_data)\n",
    "weather = hydropoint.rename(weather)\n",
    "surface = hydropoint.rename(surface)\n",
    "\n",
    "\n",
    "weather['Rain'] = weather['Rain']*1000*24\n",
    "weather['Date'] = pd.to_datetime(weather['Date'],\n",
    "                                         format='%Y-%m-%d').dt.date\n",
    "surface['Date'] = pd.to_datetime(surface['Date'],\n",
    "                                         format='%Y-%m-%d').dt.date\n",
    "\n",
    "surface = surface.groupby('Date').first().reset_index()\n",
    "weather = weather.groupby('Date').first().reset_index()\n",
    "\n",
    "weather = weather.drop(['longitude', 'latitude'], axis=1)\n",
    "surface = surface.drop(['longitude', 'latitude'], axis=1)\n",
    "\n",
    "weather['Resultant Windspeed'] = (weather['U Windspeed']**2\n",
    "                                          + weather['V Windspeed']**2)**(1/2)\n",
    "for f in ['Rain','Temperature','Resultant Windspeed','Humidity']:\n",
    "    weather = hydropoint.weather_shift(weather, f, days)\n",
    "    for window in [28, 90, 180]:\n",
    "        ma.stat_roller(weather, f, window, method='mean')\n",
    "\n",
    "'''\n",
    "\n",
    "combined = pd.merge(weather, surface, on='Date')\n",
    "combined = pd.merge(self.flow, combined, how='inner', on='Date')\n",
    "combined = combined.drop(combined.index[0:179])\n",
    "'''\n",
    "weather"
   ],
   "metadata": {
    "collapsed": false,
    "ExecuteTime": {
     "end_time": "2024-04-27T12:46:27.276234900Z",
     "start_time": "2024-04-27T12:46:23.069758Z"
    }
   },
   "id": "66ea7476d0906265"
  },
  {
   "cell_type": "code",
   "execution_count": null,
   "outputs": [],
   "source": [],
   "metadata": {
    "collapsed": false
   },
   "id": "c2d612718d1bb74d"
  }
 ],
 "metadata": {
  "kernelspec": {
   "display_name": "Python 3",
   "language": "python",
   "name": "python3"
  },
  "language_info": {
   "codemirror_mode": {
    "name": "ipython",
    "version": 2
   },
   "file_extension": ".py",
   "mimetype": "text/x-python",
   "name": "python",
   "nbconvert_exporter": "python",
   "pygments_lexer": "ipython2",
   "version": "2.7.6"
  }
 },
 "nbformat": 4,
 "nbformat_minor": 5
}
